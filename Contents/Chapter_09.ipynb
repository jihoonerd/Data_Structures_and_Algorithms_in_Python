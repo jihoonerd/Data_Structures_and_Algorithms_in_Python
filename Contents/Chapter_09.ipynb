{
 "cells": [
  {
   "cell_type": "markdown",
   "metadata": {},
   "source": [
    "# Chapter 09: Priority Queues"
   ]
  },
  {
   "cell_type": "markdown",
   "metadata": {},
   "source": [
    "## 9.1 Priority Queue Abstract Data Type"
   ]
  },
  {
   "cell_type": "markdown",
   "metadata": {},
   "source": [
    "### 9.1.1 Priorities"
   ]
  },
  {
   "cell_type": "markdown",
   "metadata": {},
   "source": [
    "In previous section, queue is defined as a collection of object, follows **first-in, first-out (FIFO)** principle. Howver, in practice, we might want to make adjustments in order as necessary. **Priority queue** is a collection of prioritized elements that allow arbitrary element insertion, and allows the removal of the element that has first priority. When an element is added to a priority queue, the user designates its priority by providing an associated **key**. The element with the *minimum* keywill be the next to be removed from the queue."
   ]
  },
  {
   "cell_type": "markdown",
   "metadata": {},
   "source": [
    "### 9.1.2 The Priority Queue ADT"
   ]
  },
  {
   "cell_type": "markdown",
   "metadata": {},
   "source": [
    "Formally, we model an element and its priority as a key-value pari. Priority queue is notead as `P`."
   ]
  },
  {
   "cell_type": "markdown",
   "metadata": {},
   "source": [
    "* `P.add(k, v)`: Insert an item with key `k` and value `v` into priority queue `P`.\n",
    "* `P.min()`: Return a tuple, `(k, v)`, representing the key and value of an item in priority queue `P` with minimum key (but do not remove the item); an error occurs if the priority queue is empty.\n",
    "* `P.remove_min()`: Remove an item with minimum key from priority queue `P`, and **return a tuple**, `(k, v)`, representing the key and value of the removed item; an error occurs if the priority queue is empty.\n",
    "* `P.is_empty()`: Return `True` if priority queue `P` does not contain any items.\n",
    "* `len(P)`: Return the number of items in priority queue `P`."
   ]
  },
  {
   "cell_type": "markdown",
   "metadata": {},
   "source": [
    "## 9.2 Implementing a Priority Queue"
   ]
  },
  {
   "cell_type": "markdown",
   "metadata": {},
   "source": [
    "### 9.2.1 The Composition Design Pattern"
   ]
  },
  {
   "cell_type": "markdown",
   "metadata": {},
   "source": [
    "We introdue the **composition design pattern**, defining an `_Item` class that assured that each element reamined paired with its associated count in our primary data structure."
   ]
  },
  {
   "cell_type": "code",
   "execution_count": 1,
   "metadata": {},
   "outputs": [],
   "source": [
    "class PriorityQueueBase:\n",
    "    \"\"\"Abstract base class for a priority queue.\"\"\"\n",
    "    \n",
    "    class _Item:\n",
    "        \"\"\"Lightweight composite to store priority queue items.\"\"\"\n",
    "        __slots__ = '_key', '_value'\n",
    "        \n",
    "        def __init__(self, k, v):\n",
    "            self._key = k\n",
    "            self._value = v\n",
    "            \n",
    "        def __lt__(self, other):\n",
    "            return self._key < other._key\n",
    "        \n",
    "    def is_empty(self):\n",
    "        \"\"\"Return True if the priority queue is empty.\"\"\"\n",
    "        return len(self) == 0"
   ]
  },
  {
   "source": [
    "### 9.2.2 Implementation with an Unsorted List"
   ],
   "cell_type": "markdown",
   "metadata": {}
  },
  {
   "source": [
    "First implementation employs `UnsortedPriorityQueue`, inheriting from the `PriorityQueueBase`."
   ],
   "cell_type": "markdown",
   "metadata": {}
  },
  {
   "source": [
    "Summary of the running times for the `UnsortedPriorityQueue`:\n",
    "\n",
    "|Operation|Running Time|\n",
    "|:---:|:---:|\n",
    "|`len`|$O(1)$|\n",
    "|`is_empty`|$O(1)$|\n",
    "|`add`|$O(1)$|\n",
    "|`min`|$O(n)$|\n",
    "|`remove_min`|$O(n)$|"
   ],
   "cell_type": "markdown",
   "metadata": {}
  },
  {
   "cell_type": "code",
   "execution_count": 6,
   "metadata": {},
   "outputs": [],
   "source": [
    "class _DoublyLinkedBase:\n",
    "    \"\"\"A base calss providing a doubly linked list representation.\"\"\"\n",
    "    \n",
    "    class _Node:\n",
    "        __slots__ = '_element', '_prev', '_next'\n",
    "        \n",
    "        def __init__(self, element, prev, nxt):\n",
    "            self._element = element\n",
    "            self._prev = prev\n",
    "            self._next = nxt\n",
    "    \n",
    "    def __init__(self):\n",
    "        self._header = self._Node(None, None, None)\n",
    "        self._trailer = self._Node(None, None, None)\n",
    "        self._header._next = self._trailer\n",
    "        self._trailer._prev = self._header\n",
    "        self._size = 0\n",
    "        \n",
    "    def __len__(self):\n",
    "        return self._size\n",
    "    \n",
    "    def is_empty(self):\n",
    "        return self._size == 0\n",
    "    \n",
    "    def _insert_between(self, e, predecessor, successor):\n",
    "        newest = self._Node(e, predecessor, successor)\n",
    "        predecessor._next = newest\n",
    "        successor._prev = newest\n",
    "        self._size += 1\n",
    "        return newest\n",
    "    \n",
    "    def _delete_node(self, node):\n",
    "        predecessor = node._prev\n",
    "        successor = node._next\n",
    "        predecessor._next = successor\n",
    "        successor._prev = predecessor\n",
    "        self._size -= 1\n",
    "        element = node._element\n",
    "        node._prev = node._next = node._element = None\n",
    "        return element"
   ]
  },
  {
   "cell_type": "code",
   "execution_count": 7,
   "metadata": {},
   "outputs": [],
   "source": [
    "class PositionalList(_DoublyLinkedBase):\n",
    "    \n",
    "    class Position:\n",
    "        \"\"\"An abstraction representing the location of a single element.\"\"\"\n",
    "        \n",
    "        def __init__(self, container, node):\n",
    "            self._container = container\n",
    "            self._node = node\n",
    "        \n",
    "        def element(self):\n",
    "            return self._node._element\n",
    "        \n",
    "        def __eq__(self, other):\n",
    "            return type(other) is type(self) and other._Node is self._node\n",
    "        \n",
    "        def __ne__(self, other):\n",
    "            return not (self == other)\n",
    "        \n",
    "    \n",
    "    def _validate(self, p):\n",
    "        if not isinstance(p, self.Position):\n",
    "            raise TypeError('p must be proper Position type')\n",
    "        if p._container is not self:\n",
    "            raise ValueError('p does not belong to this container')\n",
    "        if p._node._next is None:\n",
    "            raise ValueError('p is no longer valid')\n",
    "        return p._node\n",
    "    \n",
    "    \n",
    "    def _make_position(self, node):\n",
    "        if node is self._header or node is self._trailer:\n",
    "            return None\n",
    "        else:\n",
    "            return self.Position(self, node)\n",
    "        \n",
    "    def first(self):\n",
    "        return self._make_position(self._header._next)\n",
    "    \n",
    "    def last(self):\n",
    "        return self._make_position(self._trailer._prev)\n",
    "    \n",
    "    def before(self, p):\n",
    "        node = self._validate(p)\n",
    "        return self._make_position(node._prev)\n",
    "    \n",
    "    def after(self, p):\n",
    "        node = self._validate(p)\n",
    "        return self._make_position(node._next)\n",
    "    \n",
    "    def __iter__(self):\n",
    "        cursor = self.first()\n",
    "        while cursor is not None:\n",
    "            yield cursor.element()\n",
    "            cursor = self.after(cursor)\n",
    "            \n",
    "    def _insert_between(self, e, predecessor, successor):\n",
    "        node = super()._insert_between(e, predecessor, successor)\n",
    "        return self._make_position(node)\n",
    "    \n",
    "    def add_first(self, e):\n",
    "        return self._insert_between(e, self._header, self.header._next)\n",
    "    \n",
    "    def add_last(self, e):\n",
    "        return self._insert_between(e, self._trailer._prev, self._trailer)\n",
    "    \n",
    "    def add_before(self, p, e):\n",
    "        original = self._validate(p)\n",
    "        return self._insert_between(e, original._prev, original)\n",
    "    \n",
    "    def add_after(self, p, e):\n",
    "        original = self._validate(p)\n",
    "        return self._insert_between(e, original, original._next)\n",
    "    \n",
    "    def delete(self, p):\n",
    "        original = self._validate(p)\n",
    "        return self._delete_node(original)\n",
    "    \n",
    "    def replace(self, p, e):\n",
    "        original = self._validate(p)\n",
    "        old_value = original._element\n",
    "        original._element = e\n",
    "        return old_value\n",
    "        "
   ]
  },
  {
   "cell_type": "code",
   "execution_count": 8,
   "metadata": {},
   "outputs": [],
   "source": [
    "class UnsortedPriorityQueue(PriorityQueueBase): # base class defines _Item\n",
    "    \"\"\"A min-oriented priority queue implemented with an unsorted list.\"\"\"\n",
    "\n",
    "    def _find_min(self): # nonpublic utility\n",
    "        \"\"\"Return Position of item with minimum key.\"\"\"\n",
    "        if self.is_empty():\n",
    "            raise Empty(\"Priority queue is empty\")\n",
    "        small = self._data.first()\n",
    "        walk = self._data.after(small)\n",
    "        while walk is not None:\n",
    "            if walk.element() < small.element():\n",
    "                small = walk\n",
    "            walk = self._data.after(walk)\n",
    "        return small\n",
    "\n",
    "    def __init__(self):\n",
    "        \"\"\"Create a new empty Priority Queue\"\"\"\n",
    "        self._data = PositionalList()\n",
    "    \n",
    "    def __len__(self):\n",
    "        \"\"\"Return the number of items in the priority queue.\"\"\"\n",
    "        return len(self._data)\n",
    "    \n",
    "    def add(self, key, value):\n",
    "        \"\"\"Add a key-value pair.\"\"\"\n",
    "        self._data.add_last(self._Item(key, value))\n",
    "\n",
    "    def min(self):\n",
    "        \"\"\"Return but do not remove (k,v) tuple with minimum key.\"\"\"\n",
    "        p = self._find_min()\n",
    "        item = p.element()\n",
    "        return (item._key, item._value)\n",
    "\n",
    "    def remove_min(self):\n",
    "        \"\"\"Remove and return (k,v) tuple with minimum key.\"\"\"\n",
    "        p = self._find_min()\n",
    "        item = self._data.delete(p)\n",
    "        return (item._key, item._value)\n"
   ]
  },
  {
   "source": [
    "### 9.2.3 Implementation with a Sorted List"
   ],
   "cell_type": "markdown",
   "metadata": {}
  },
  {
   "source": [
    "An alternative implementation of a priority queue uses a positional list, yet maintaining entries sorted by nondecreasing keys. This ensures that the first element of the list is an entry with the smallest key.\n",
    "\n",
    "This benefit comes at a cost, for method `add` now requires that we scan the list to find the appropriate position to insert the new item."
   ],
   "cell_type": "markdown",
   "metadata": {}
  },
  {
   "source": [
    "Worst-case running times of the methods of a priority queue of size $n$. (Implemented by a doubly linked list)\n",
    "\n",
    "|Operation|Unsorted List|Sorted List|\n",
    "|:---:|:---:|:---:|\n",
    "|`len`|$O(1)$|$O(1)$|\n",
    "|`is_empty`|$O(1)$|$O(1)$|\n",
    "|`add`|$O(1)$|$O(n)$|\n",
    "|`min`|$O(n)$|$O(1)$|\n",
    "|`remove_min`|$O(n)$|$O(1)$|\n"
   ],
   "cell_type": "markdown",
   "metadata": {}
  },
  {
   "cell_type": "code",
   "execution_count": 10,
   "metadata": {},
   "outputs": [],
   "source": [
    "class SortedPriorityQueue(PriorityQueueBase): # base class defines _Item\n",
    "    \"\"\"A min-oriented priority queue implemented with a sorted list.\"\"\"\n",
    "\n",
    "    def __init__(self):\n",
    "        \"\"\"Create a new empty Priority Queue.\"\"\"\n",
    "        self._data = PositionalList()\n",
    "\n",
    "    def __len__(self):\n",
    "        \"\"\"Return the number of items in the priority queue.\"\"\"\n",
    "        return len(self._data)\n",
    "\n",
    "    def add(self, key, value):\n",
    "        \"\"\"Add a key-value pair.\"\"\"\n",
    "        newest = self._Item(key, value)\n",
    "        walk = self._data.last() # walk backward looking for smaller key\n",
    "        while walk is not None and newest < walk.element():\n",
    "            walk = self._data.before(walk)\n",
    "        if walk is None:\n",
    "            self._data.add_first(newest) # new key is smallest\n",
    "        else:\n",
    "            self._data.add_after(walk, newest) # newest goes after walk\n",
    "\n",
    "    def min(self):\n",
    "        \"\"\"Return but do not remove (k,v) tuple with minimum key.\"\"\"\n",
    "        if self.is_empty():\n",
    "            raise Empty(\"Priority queue is empty\")\n",
    "        p = self._data.first()\n",
    "        item = p.element()\n",
    "        return (item._key, item._value)\n",
    "    \n",
    "    def remove_min(self):\n",
    "        \"\"\"Remove and return (k,v) tuple with minimum key.\"\"\"\n",
    "        if self.is_empty():\n",
    "            raise Empty(\"Priority queue is empty\")\n",
    "        item = self._data.delete(self._data.first())\n",
    "        return (item._key, item._value)"
   ]
  },
  {
   "source": [
    "## 9.3 Heaps"
   ],
   "cell_type": "markdown",
   "metadata": {}
  },
  {
   "source": [
    "Binary heap is a data structure which can make a priority queue more efficient. This performas both insertions and removals in logarithmic time by using a binary tree. This tree provides reasonable compromise between entirely sorted and unsorted."
   ],
   "cell_type": "markdown",
   "metadata": {}
  },
  {
   "source": [
    "### 9.3.1 The Heap Data Structure"
   ],
   "cell_type": "markdown",
   "metadata": {}
  },
  {
   "source": [
    "A heap is a binary tree $T$ that stores a collection of items at its positions and that satisfies **two additional properties**: *a relational property* and *a structural property*"
   ],
   "cell_type": "markdown",
   "metadata": {}
  },
  {
   "source": [
    "#### Heap-Order Property\n",
    "\n",
    "In a heap $T$, for every position $p$ other than the root, the key stored at $p$ is greater than or equal to the key stored at $p$'s parent."
   ],
   "cell_type": "markdown",
   "metadata": {}
  },
  {
   "source": [
    "This guarantees that the root of a tree to have the minimum number in elements."
   ],
   "cell_type": "markdown",
   "metadata": {}
  },
  {
   "source": [
    "#### Complete Binary Tree Property\n",
    "A heap $T$ with height $h$ is a complete binary tree if levels $0, 1, 2, \\ldots, h-1$ of $T$ have the maximum number of nodes possible (namely, level $i$ has $2^{i}$ nodes, for $0 \\leq i \\leq h-1$) and the remaining nodes at level $h$ reside in the left most possible positoins at that level."
   ],
   "cell_type": "markdown",
   "metadata": {}
  },
  {
   "source": [
    "The properties above make a heap to have tree structure like below:\n",
    "\n",
    "<img src=\"https://upload.wikimedia.org/wikipedia/commons/thumb/3/38/Max-Heap.svg/1280px-Max-Heap.svg.png\" width=30% height=30% />"
   ],
   "cell_type": "markdown",
   "metadata": {}
  },
  {
   "source": [
    "#### The Height of a Heap"
   ],
   "cell_type": "markdown",
   "metadata": {}
  },
  {
   "source": [
    "Let $h$ denote the height of $T$. Insisting that $T$ be complete also has an important consequence, as shown below:\n",
    "\n",
    "**Proposition 9.2:** A heap $T$ storing $n$ entries has height $h= \\lfloor \\log n \\rfloor$"
   ],
   "cell_type": "markdown",
   "metadata": {}
  },
  {
   "cell_type": "code",
   "execution_count": null,
   "metadata": {},
   "outputs": [],
   "source": []
  }
 ],
 "metadata": {
  "kernelspec": {
   "display_name": "Python 3",
   "language": "python",
   "name": "python3"
  },
  "language_info": {
   "codemirror_mode": {
    "name": "ipython",
    "version": 3
   },
   "file_extension": ".py",
   "mimetype": "text/x-python",
   "name": "python",
   "nbconvert_exporter": "python",
   "pygments_lexer": "ipython3",
   "version": "3.8.5-final"
  }
 },
 "nbformat": 4,
 "nbformat_minor": 4
}